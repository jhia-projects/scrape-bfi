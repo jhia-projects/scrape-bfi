{
 "cells": [
  {
   "cell_type": "markdown",
   "metadata": {},
   "source": [
    "## Scraping film revenue for BFI from 2012 to 2017\n",
    "\n"
   ]
  },
  {
   "cell_type": "code",
   "execution_count": 1,
   "metadata": {},
   "outputs": [],
   "source": [
    "import requests\n",
    "from bs4 import BeautifulSoup as soup\n",
    "import re\n",
    "import pandas as pd\n",
    "import numpy as np\n",
    "import datetime\n",
    "\n",
    "dir = os.getcwd()\n"
   ]
  },
  {
   "cell_type": "markdown",
   "metadata": {},
   "source": [
    "### Create pandas df containing download links (2012-2017)"
   ]
  },
  {
   "cell_type": "markdown",
   "metadata": {},
   "source": [
    "#### 2017"
   ]
  },
  {
   "cell_type": "code",
   "execution_count": 11,
   "metadata": {},
   "outputs": [
    {
     "data": {
      "text/html": [
       "<div>\n",
       "<style scoped>\n",
       "    .dataframe tbody tr th:only-of-type {\n",
       "        vertical-align: middle;\n",
       "    }\n",
       "\n",
       "    .dataframe tbody tr th {\n",
       "        vertical-align: top;\n",
       "    }\n",
       "\n",
       "    .dataframe thead th {\n",
       "        text-align: right;\n",
       "    }\n",
       "</style>\n",
       "<table border=\"1\" class=\"dataframe\">\n",
       "  <thead>\n",
       "    <tr style=\"text-align: right;\">\n",
       "      <th></th>\n",
       "      <th>download</th>\n",
       "      <th>website</th>\n",
       "    </tr>\n",
       "  </thead>\n",
       "  <tbody>\n",
       "    <tr>\n",
       "      <th>0</th>\n",
       "      <td>https://core-cms.bfi.org.uk/media/857/download</td>\n",
       "      <td>https://www.bfi.org.uk/industry-data-insights/...</td>\n",
       "    </tr>\n",
       "    <tr>\n",
       "      <th>1</th>\n",
       "      <td>https://core-cms.bfi.org.uk/media/858/download</td>\n",
       "      <td>https://www.bfi.org.uk/industry-data-insights/...</td>\n",
       "    </tr>\n",
       "    <tr>\n",
       "      <th>2</th>\n",
       "      <td>https://core-cms.bfi.org.uk/media/859/download</td>\n",
       "      <td>https://www.bfi.org.uk/industry-data-insights/...</td>\n",
       "    </tr>\n",
       "    <tr>\n",
       "      <th>3</th>\n",
       "      <td>https://core-cms.bfi.org.uk/media/860/download</td>\n",
       "      <td>https://www.bfi.org.uk/industry-data-insights/...</td>\n",
       "    </tr>\n",
       "    <tr>\n",
       "      <th>4</th>\n",
       "      <td>https://core-cms.bfi.org.uk/media/861/download</td>\n",
       "      <td>https://www.bfi.org.uk/industry-data-insights/...</td>\n",
       "    </tr>\n",
       "    <tr>\n",
       "      <th>...</th>\n",
       "      <td>...</td>\n",
       "      <td>...</td>\n",
       "    </tr>\n",
       "    <tr>\n",
       "      <th>115</th>\n",
       "      <td>https://core-cms.bfi.org.uk/media/972/download</td>\n",
       "      <td>https://www.bfi.org.uk/industry-data-insights/...</td>\n",
       "    </tr>\n",
       "    <tr>\n",
       "      <th>116</th>\n",
       "      <td>https://core-cms.bfi.org.uk/media/973/download</td>\n",
       "      <td>https://www.bfi.org.uk/industry-data-insights/...</td>\n",
       "    </tr>\n",
       "    <tr>\n",
       "      <th>117</th>\n",
       "      <td>https://core-cms.bfi.org.uk/media/974/download</td>\n",
       "      <td>https://www.bfi.org.uk/industry-data-insights/...</td>\n",
       "    </tr>\n",
       "    <tr>\n",
       "      <th>118</th>\n",
       "      <td>https://core-cms.bfi.org.uk/media/975/download</td>\n",
       "      <td>https://www.bfi.org.uk/industry-data-insights/...</td>\n",
       "    </tr>\n",
       "    <tr>\n",
       "      <th>119</th>\n",
       "      <td>https://core-cms.bfi.org.uk/media/976/download</td>\n",
       "      <td>https://www.bfi.org.uk/industry-data-insights/...</td>\n",
       "    </tr>\n",
       "  </tbody>\n",
       "</table>\n",
       "<p>120 rows × 2 columns</p>\n",
       "</div>"
      ],
      "text/plain": [
       "                                           download  \\\n",
       "0    https://core-cms.bfi.org.uk/media/857/download   \n",
       "1    https://core-cms.bfi.org.uk/media/858/download   \n",
       "2    https://core-cms.bfi.org.uk/media/859/download   \n",
       "3    https://core-cms.bfi.org.uk/media/860/download   \n",
       "4    https://core-cms.bfi.org.uk/media/861/download   \n",
       "..                                              ...   \n",
       "115  https://core-cms.bfi.org.uk/media/972/download   \n",
       "116  https://core-cms.bfi.org.uk/media/973/download   \n",
       "117  https://core-cms.bfi.org.uk/media/974/download   \n",
       "118  https://core-cms.bfi.org.uk/media/975/download   \n",
       "119  https://core-cms.bfi.org.uk/media/976/download   \n",
       "\n",
       "                                               website  \n",
       "0    https://www.bfi.org.uk/industry-data-insights/...  \n",
       "1    https://www.bfi.org.uk/industry-data-insights/...  \n",
       "2    https://www.bfi.org.uk/industry-data-insights/...  \n",
       "3    https://www.bfi.org.uk/industry-data-insights/...  \n",
       "4    https://www.bfi.org.uk/industry-data-insights/...  \n",
       "..                                                 ...  \n",
       "115  https://www.bfi.org.uk/industry-data-insights/...  \n",
       "116  https://www.bfi.org.uk/industry-data-insights/...  \n",
       "117  https://www.bfi.org.uk/industry-data-insights/...  \n",
       "118  https://www.bfi.org.uk/industry-data-insights/...  \n",
       "119  https://www.bfi.org.uk/industry-data-insights/...  \n",
       "\n",
       "[120 rows x 2 columns]"
      ]
     },
     "execution_count": 11,
     "metadata": {},
     "output_type": "execute_result"
    }
   ],
   "source": [
    "### 2017 - can just get index of file names\n",
    "index = list(range(856, 976))\n",
    "urls_2017 = []\n",
    "for i in index:\n",
    "    url = 'https://core-cms.bfi.org.uk/media/' + str(i+1) + '/download'\n",
    "    url_pd = pd.DataFrame({\n",
    "        'download' : url,\n",
    "        'website': 'https://www.bfi.org.uk/industry-data-insights/weekend-box-office-figures/uk-weekend-box-office-reports-2017'\n",
    "    }, index=[i-856])\n",
    "    urls_2017.append(url_pd)\n",
    "urls_2017 = pd.concat(urls_2017)\n",
    "urls_2017\n"
   ]
  },
  {
   "cell_type": "markdown",
   "metadata": {},
   "source": [
    "#### 2016"
   ]
  },
  {
   "cell_type": "code",
   "execution_count": 3,
   "metadata": {},
   "outputs": [
    {
     "data": {
      "text/plain": [
       "'https://www2.bfi.org.uk/publications/corporate-documents-publications/film-industry-statistics-research/box-office-reports-2016'"
      ]
     },
     "execution_count": 3,
     "metadata": {},
     "output_type": "execute_result"
    }
   ],
   "source": [
    "# (Need to use beautiful soup to get all the hrefs)\n",
    "# Get the website link where you can download all the data\n",
    "URL = \"https://www2.bfi.org.uk/publications/corporate-documents-publications/film-industry-statistics-research/box-office-reports-2016\"\n",
    "html_page = requests.get(URL).content\n",
    "soup_page = soup(html_page, \"html\")\n",
    "\n",
    "urls_2016 = []\n",
    "for a in soup_page.find_all('a', href=True):\n",
    "    if 'https://www2.bfi.org.uk/sites/bfi.org.uk/files' in a['href']:\n",
    "        url_pd = pd.DataFrame({\n",
    "            'download' : a['href'],\n",
    "            'website': 'https://www2.bfi.org.uk/publications/corporate-documents-publications/film-industry-statistics-research/box-office-reports-2016'\n",
    "        }, index=[0])\n",
    "        urls_2016.append(url_pd)\n",
    "\n",
    "urls_2016 = pd.concat(urls_2016)\n",
    "urls_2016.iloc[0,1]\n"
   ]
  },
  {
   "cell_type": "markdown",
   "metadata": {},
   "source": [
    "#### 2015"
   ]
  },
  {
   "cell_type": "code",
   "execution_count": 4,
   "metadata": {},
   "outputs": [
    {
     "data": {
      "text/plain": [
       "'https://www2.bfi.org.uk/sites/bfi.org.uk/files/downloads/bfi-weekend-box-office-report-25-27-december-2015.xls'"
      ]
     },
     "execution_count": 4,
     "metadata": {},
     "output_type": "execute_result"
    }
   ],
   "source": [
    "# (Need to use beautiful soup to get all the hrefs)\n",
    "# Get the website link where you can download all the data\n",
    "URL = \"https://www2.bfi.org.uk/publications/corporate-documents-publications/film-industry-statistics-research/box-office-reports-2015\"\n",
    "html_page = requests.get(URL).content\n",
    "soup_page = soup(html_page, \"html\")\n",
    "\n",
    "urls_2015 = []\n",
    "for a in soup_page.find_all('a', href=True):\n",
    "    if 'https://www2.bfi.org.uk/sites/bfi.org.uk/files/downloads/' in a['href']:\n",
    "        url_pd = pd.DataFrame({\n",
    "            'download' : a['href'],\n",
    "            'website': 'https://www2.bfi.org.uk/publications/corporate-documents-publications/film-industry-statistics-research/box-office-reports-2015'\n",
    "        }, index=[0])\n",
    "        urls_2015.append(url_pd)\n",
    "\n",
    "urls_2015 = pd.concat(urls_2015)\n",
    "urls_2015.iloc[0,0]\n"
   ]
  },
  {
   "cell_type": "markdown",
   "metadata": {},
   "source": [
    "#### 2014"
   ]
  },
  {
   "cell_type": "code",
   "execution_count": 5,
   "metadata": {},
   "outputs": [
    {
     "data": {
      "text/plain": [
       "'https://www2.bfi.org.uk/sites/bfi.org.uk/files/downloads/bfi-weekend-box-office-report-26-28-december-2014.xls'"
      ]
     },
     "execution_count": 5,
     "metadata": {},
     "output_type": "execute_result"
    }
   ],
   "source": [
    "# (Need to use beautiful soup to get all the hrefs)\n",
    "# Get the website link where you can download all the data\n",
    "URL = \"https://www2.bfi.org.uk/publications/corporate-documents-publications/film-industry-statistics-research/box-office-reports-2014\"\n",
    "html_page = requests.get(URL).content\n",
    "soup_page = soup(html_page, \"html\")\n",
    "\n",
    "urls_2014 = []\n",
    "for a in soup_page.find_all('a', href=True):\n",
    "    if 'https://www2.bfi.org.uk/sites/bfi.org.uk/files/downloads/' in a['href']:\n",
    "        url_pd = pd.DataFrame({\n",
    "            'download' : a['href'],\n",
    "            'website': 'https://www2.bfi.org.uk/publications/corporate-documents-publications/film-industry-statistics-research/box-office-reports-2014'\n",
    "        }, index=[0])\n",
    "        urls_2014.append(url_pd)\n",
    "\n",
    "urls_2014 = pd.concat(urls_2014)\n",
    "urls_2014.iloc[0,0]\n"
   ]
  },
  {
   "cell_type": "markdown",
   "metadata": {},
   "source": [
    "#### 2013"
   ]
  },
  {
   "cell_type": "code",
   "execution_count": 6,
   "metadata": {},
   "outputs": [
    {
     "data": {
      "text/plain": [
       "'https://www2.bfi.org.uk/sites/bfi.org.uk/files/downloads/bfi-weekend-box-office-report-27-29-December-2013.xls'"
      ]
     },
     "execution_count": 6,
     "metadata": {},
     "output_type": "execute_result"
    }
   ],
   "source": [
    "# (Need to use beautiful soup to get all the hrefs)\n",
    "# Get the website link where you can download all the data\n",
    "URL = \"https://www2.bfi.org.uk/publications/corporate-documents-publications/film-industry-statistics-research/box-office-reports-2013\"\n",
    "html_page = requests.get(URL).content\n",
    "soup_page = soup(html_page, \"html\")\n",
    "\n",
    "urls_2013 = []\n",
    "for a in soup_page.find_all('a', href=True):\n",
    "    if 'https://www2.bfi.org.uk/sites/bfi.org.uk/files/downloads/' in a['href']:\n",
    "        url_pd = pd.DataFrame({\n",
    "            'download' : a['href'],\n",
    "            'website': 'https://www2.bfi.org.uk/publications/corporate-documents-publications/film-industry-statistics-research/box-office-reports-2014'\n",
    "        }, index=[0])\n",
    "        urls_2013.append(url_pd)\n",
    "\n",
    "urls_2013 = pd.concat(urls_2013)\n",
    "urls_2013.iloc[0,0]\n"
   ]
  },
  {
   "cell_type": "markdown",
   "metadata": {},
   "source": [
    "#### 2012"
   ]
  },
  {
   "cell_type": "code",
   "execution_count": 7,
   "metadata": {},
   "outputs": [
    {
     "data": {
      "text/plain": [
       "'https://www2.bfi.org.uk/sites/bfi.org.uk/files/downloads/bfi-uk-box-office-28-30-december-2012.xls'"
      ]
     },
     "execution_count": 7,
     "metadata": {},
     "output_type": "execute_result"
    }
   ],
   "source": [
    "# (Need to use beautiful soup to get all the hrefs)\n",
    "# Get the website link where you can download all the data\n",
    "URL = \"https://www2.bfi.org.uk/publications/corporate-documents-publications/film-industry-statistics-research/box-office-reports-6\"\n",
    "html_page = requests.get(URL).content\n",
    "soup_page = soup(html_page, \"html\")\n",
    "\n",
    "urls_2012 = []\n",
    "for a in soup_page.find_all('a', href=True):\n",
    "    if 'https://www2.bfi.org.uk/sites/bfi.org.uk/files/downloads/' in a['href']:\n",
    "        url_pd = pd.DataFrame({\n",
    "            'download' : a['href'],\n",
    "            'website': 'https://www2.bfi.org.uk/publications/corporate-documents-publications/film-industry-statistics-research/box-office-reports-6'\n",
    "        }, index=[0])\n",
    "        urls_2012.append(url_pd)\n",
    "\n",
    "urls_2012 = pd.concat(urls_2012)\n",
    "urls_2012.iloc[0,0]\n"
   ]
  },
  {
   "cell_type": "markdown",
   "metadata": {},
   "source": [
    "#### Concat 2012-2017 of file information"
   ]
  },
  {
   "cell_type": "code",
   "execution_count": 12,
   "metadata": {},
   "outputs": [],
   "source": [
    "all_urls = pd.concat([urls_2012[::-1], urls_2013[::-1], urls_2014[::-1], urls_2015[::-1], urls_2016[::-1], urls_2017[::-1]], ignore_index=True)"
   ]
  },
  {
   "cell_type": "markdown",
   "metadata": {},
   "source": [
    "### Downloading the files from the web"
   ]
  },
  {
   "cell_type": "code",
   "execution_count": 13,
   "metadata": {},
   "outputs": [],
   "source": [
    "# Loop through all_urls and download files to output dir\n",
    "for i, row in all_urls.iterrows():\n",
    "    url = row['download']\n",
    "    resp = requests.get(url)\n",
    "    # Note on using open command: basically creates an object, where you can save resp\n",
    "    output = open(os.path.join(dir, 'data', 'bfi', str(i) + '.xls'), 'wb') # wb indicates file is for writing in binary mode\n",
    "    output.write(resp.content)\n",
    "    output.close()\n"
   ]
  },
  {
   "cell_type": "code",
   "execution_count": 7,
   "metadata": {},
   "outputs": [],
   "source": [
    "# Test downloading a file from the web\n",
    "test_url = \"https://core-cms.bfi.org.uk/media/857/download\"\n",
    "resp = requests.get(test_url)\n",
    "# Note on using open command: basically creates an object, where you can save resp\n",
    "output = open(os.path.join(dir, 'data', 'bfi', 'test.xls'), 'wb') # wb indicates file is for writing in binary mode\n",
    "output.write(resp.content)\n",
    "output.close()"
   ]
  },
  {
   "cell_type": "markdown",
   "metadata": {},
   "source": [
    "### Backup approach: try urllib instead"
   ]
  },
  {
   "cell_type": "code",
   "execution_count": null,
   "metadata": {},
   "outputs": [],
   "source": [
    "import urllib.request\n",
    "urllib.request.urlretrieve(\"http://www.example.com/songs/mp3.mp3\", \"mp3.mp3\")"
   ]
  },
  {
   "cell_type": "code",
   "execution_count": null,
   "metadata": {},
   "outputs": [],
   "source": []
  }
 ],
 "metadata": {
  "kernelspec": {
   "display_name": "Python 3.7.3 ('ENV': venv)",
   "language": "python",
   "name": "python3"
  },
  "language_info": {
   "codemirror_mode": {
    "name": "ipython",
    "version": 3
   },
   "file_extension": ".py",
   "mimetype": "text/x-python",
   "name": "python",
   "nbconvert_exporter": "python",
   "pygments_lexer": "ipython3",
   "version": "3.7.3"
  },
  "orig_nbformat": 4,
  "vscode": {
   "interpreter": {
    "hash": "ebd9569d51c66df3ad45cab2c5cf9a347a517cd9f7f14f0eb13b7c49bda8324f"
   }
  }
 },
 "nbformat": 4,
 "nbformat_minor": 2
}
